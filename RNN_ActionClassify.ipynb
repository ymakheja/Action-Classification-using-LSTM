{
 "cells": [
  {
   "cell_type": "markdown",
   "metadata": {},
   "source": [
    "# Sequence Classification using Recurrent Neural Networks(RNN)\n",
    "In this homework, you will learn how to train a recurrent neural network for human action classification. RNN is designed handle sequential data. The network can incorporate both past history and current input. [This](http://colah.github.io/posts/2015-08-Understanding-LSTMs/) is a very good tutorial. You should read it before you start."
   ]
  },
  {
   "cell_type": "markdown",
   "metadata": {},
   "source": [
    "## Setup\n",
    "Please make sure you have h5py and torchnet installed\n",
    "> pip install h5py\n",
    "\n",
    "> pip install git+https://github.com/pytorch/tnt.git@master\n"
   ]
  },
  {
   "cell_type": "code",
   "execution_count": 1,
   "metadata": {},
   "outputs": [
    {
     "name": "stdout",
     "output_type": "stream",
     "text": [
      "use cuda: True\n"
     ]
    }
   ],
   "source": [
    "import os\n",
    "import numpy as np\n",
    "import h5py\n",
    "\n",
    "import torch\n",
    "import torch.nn as nn\n",
    "from torch.autograd import Variable\n",
    "import torch.utils.data as DD\n",
    "import torchnet as tnt\n",
    "\n",
    "use_cuda = torch.cuda.is_available()\n",
    "print('use cuda: %s'%(use_cuda))\n",
    "FloatTensor = torch.cuda.FloatTensor if use_cuda else torch.FloatTensor\n",
    "LongTensor = torch.cuda.LongTensor if use_cuda else torch.LongTensor\n",
    "ByteTensor = torch.cuda.ByteTensor if use_cuda else torch.ByteTensor\n"
   ]
  },
  {
   "cell_type": "markdown",
   "metadata": {},
   "source": [
    "## Dataset\n",
    "The data we are using is skeleton data, which indicates the 3D locations of body joints. In total, there are 25 body joints. It is collected by Kinect v2. To make it easier, each sequence have same number of frames. You need to classify 10 different actions. There are 2000 training sequences, 400 validation sequences, and 500 test sequences. Each sequence has 15 frames, each frame is a 75-dimension vector (3*25).\n",
    "\n",
    "For your convenience, we provide the dataloader for you.\n"
   ]
  },
  {
   "cell_type": "code",
   "execution_count": 2,
   "metadata": {
    "collapsed": true
   },
   "outputs": [],
   "source": [
    "class Dataset(DD.Dataset):\n",
    "    # subset can be: 'train', 'val', 'test'\n",
    "    def __init__(self, data_path, subset='train'):\n",
    "        super(Dataset, self).__init__()\n",
    "        self.data_path = os.path.join(data_path, '%s_data.h5'%subset)\n",
    "        self.subset = subset\n",
    "\n",
    "        with h5py.File(self.data_path) as f:\n",
    "            self.data = np.array(f['data'])\n",
    "\n",
    "        if subset != 'test':\n",
    "            self.label_path = os.path.join(data_path, '%s_label.h5'%subset)\n",
    "            with h5py.File(self.label_path) as f:\n",
    "                self.label = np.array(f['label'])\n",
    "\n",
    "        self.num_sequences = self.data.shape[0]\n",
    "        self.seq_len = self.data.shape[1]\n",
    "        self.n_dim = self.data.shape[2]\n",
    "\n",
    "    def __getitem__(self, index):\n",
    "        seq = self.data[index]\n",
    "        if self.subset != 'test':\n",
    "            label = int(self.label[index])\n",
    "            sample = {'seq': seq, 'label': label}\n",
    "        else:\n",
    "            sample = {'seq': seq}\n",
    "        return sample\n",
    "\n",
    "    def __len__(self):\n",
    "        return self.num_sequences\n",
    "\n",
    "trSet = Dataset('./data', subset='train')\n",
    "valSet = Dataset('./data', subset='val')\n",
    "tstSet = Dataset('./data', subset='test')\n",
    "\n",
    "batch_size = 50\n",
    "trLD = DD.DataLoader(trSet, batch_size=batch_size,\n",
    "       sampler=DD.sampler.RandomSampler(trSet),\n",
    "       num_workers=0, pin_memory=False)\n",
    "valLD = DD.DataLoader(valSet, batch_size=batch_size,\n",
    "       sampler=DD.sampler.SequentialSampler(valSet),\n",
    "       num_workers=0, pin_memory=False)\n",
    "tstLD = DD.DataLoader(tstSet, batch_size=batch_size,\n",
    "       sampler=DD.sampler.SequentialSampler(tstSet),\n",
    "       num_workers=0, pin_memory=False)\n",
    "\n",
    "input_dim = trSet.n_dim\n",
    "num_class = 10"
   ]
  },
  {
   "cell_type": "markdown",
   "metadata": {},
   "source": [
    "## Model\n",
    "Pytorch has implemented different types of recurrent layers for you. For this homework, you can use any type of RNNs as you want:\n",
    "> torch.nn.RNN()\n",
    "\n",
    "> torch.nn.LSTM()\n",
    "\n",
    "> torch.nn.GRU()\n",
    "\n",
    "You can check details for different types of recurrent layers here: [RNN](http://pytorch.org/docs/master/nn.html#torch.nn.RNN), [LSTM]( http://pytorch.org/docs/master/nn.html#torch.nn.LSTM), [GRU](http://pytorch.org/docs/master/nn.html#torch.nn.GRU)\n",
    "\n",
    "\n",
    "### Implement a specific model\n",
    "In this section, you need to implement a model for sequence classification. The model has following layers:\n",
    "* A linear layer that can map features of 75-dimension to 100-dimension.\n",
    "* 1 Layer LSTM layer with hidden size of 100\n",
    "* A linear layer that goes from 100 to num_class (10). \n",
    "\n",
    "An LSTM layer takes an input of size of (batch_size, seq_len, fea_dim) and outputs a variable of shape (batch_size, seq_len, hidden_size). In this homework, the classification score for a sequence is the classification score for the last step of rnn_outputs.\n",
    "\n"
   ]
  },
  {
   "cell_type": "code",
   "execution_count": 3,
   "metadata": {},
   "outputs": [],
   "source": [
    "# sequence classification model\n",
    "class SequenceClassify(nn.Module):\n",
    "    def __init__(self):\n",
    "        super(SequenceClassify, self).__init__()\n",
    "        \n",
    "        ############## 1st To Do (10 points) ##############\n",
    "        ###################################################\n",
    "    \n",
    "        self.project_layer1 = torch.nn.Linear(75, 100)\n",
    "        self.recurrent_layer = torch.nn.LSTM(100, 100, 1)\n",
    "        self.project_layer = torch.nn.Linear(100, 10)\n",
    " \n",
    "        ###################################################\n",
    "    \n",
    "    # the size of input is [batch_size, seq_len(15), input_dim(75)]\n",
    "    # the size of logits is [batch_size, num_class]\n",
    "    def forward(self, input, h_t_1=None, c_t_1=None):\n",
    "        # the size of rnn_outputs is [batch_size, seq_len, rnn_size]\n",
    "        rnn_outputs, (hn, cn) = self.recurrent_layer(self.project_layer1(input))\n",
    "        # classify the last step of rnn_outpus\n",
    "        # the size of logits is [batch_size, num_class]\n",
    "        logits = self.project_layer(rnn_outputs[:,-1])\n",
    "        return logits\n",
    "\n",
    "model = SequenceClassify()"
   ]
  },
  {
   "cell_type": "markdown",
   "metadata": {},
   "source": [
    "## Train the model\n",
    "After you have the dataloader and model, you can start training the model. Define a SGD optimizer with learning rate of 1e-3, and a cross-entropy loss function:"
   ]
  },
  {
   "cell_type": "code",
   "execution_count": 7,
   "metadata": {
    "collapsed": true
   },
   "outputs": [],
   "source": [
    "################ 2nd To Do  (5 points)##################\n",
    "optimizer = torch.optim.SGD(model.parameters(), lr = 1e-3)\n",
    "criterion = torch.nn.CrossEntropyLoss()"
   ]
  },
  {
   "cell_type": "code",
   "execution_count": 8,
   "metadata": {},
   "outputs": [
    {
     "name": "stderr",
     "output_type": "stream",
     "text": [
      "C:\\Users\\Shree\\Anaconda3\\lib\\site-packages\\ipykernel_launcher.py:31: UserWarning: invalid index of a 0-dim tensor. This will be an error in PyTorch 0.5. Use tensor.item() to convert a 0-dim tensor to a Python number\n"
     ]
    },
    {
     "name": "stdout",
     "output_type": "stream",
     "text": [
      "train Epoch: 0  , Loss: 2.3040,  Accuracy: 9.65\n",
      "val Epoch: 0  , Loss: 2.3035,  Accuracy: 9.25\n",
      "train Epoch: 1  , Loss: 2.3041,  Accuracy: 9.85\n",
      "val Epoch: 1  , Loss: 2.3034,  Accuracy: 9.75\n",
      "train Epoch: 2  , Loss: 2.3042,  Accuracy: 9.50\n",
      "val Epoch: 2  , Loss: 2.3032,  Accuracy: 9.00\n",
      "train Epoch: 3  , Loss: 2.3041,  Accuracy: 9.70\n",
      "val Epoch: 3  , Loss: 2.3030,  Accuracy: 8.75\n",
      "train Epoch: 4  , Loss: 2.3036,  Accuracy: 9.40\n",
      "val Epoch: 4  , Loss: 2.3029,  Accuracy: 8.75\n"
     ]
    }
   ],
   "source": [
    "\n",
    "def run_epoch(data_loader, model, criterion, epoch, is_training, optimizer=None):\n",
    "    if is_training:\n",
    "        model.train()\n",
    "        logger_prefix = 'train'\n",
    "    else:\n",
    "        model.eval()\n",
    "        logger_prefix = 'val'\n",
    "\n",
    "    confusion_matrix = tnt.meter.ConfusionMeter(num_class)\n",
    "    acc = tnt.meter.ClassErrorMeter(accuracy=True)\n",
    "    meter_loss = tnt.meter.AverageValueMeter()\n",
    "\n",
    "    for batch_idx, sample in enumerate(data_loader):\n",
    "        sequence = sample['seq']\n",
    "        label = sample['label']\n",
    "        input_sequence_var = Variable(sequence)\n",
    "        input_label_var = Variable(label)\n",
    "\n",
    "        # compute output\n",
    "        # output_logits: [batch_size, num_class]\n",
    "        output_logits = model(input_sequence_var)\n",
    "        loss = criterion(output_logits, input_label_var)\n",
    "\n",
    "        if is_training:\n",
    "            optimizer.zero_grad()\n",
    "            loss.backward()\n",
    "            optimizer.step()\n",
    "\n",
    "        meter_loss.add(loss.data[0])\n",
    "        acc.add(output_logits.data, input_label_var.data)\n",
    "        confusion_matrix.add(output_logits.data, input_label_var.data)\n",
    "\n",
    "\n",
    "    print('%s Epoch: %d  , Loss: %.4f,  Accuracy: %.2f'%(logger_prefix, epoch, meter_loss.value()[0], acc.value()[0]))\n",
    "    return acc.value()[0]\n",
    "\n",
    "num_epochs = 5\n",
    "evaluate_every_epoch = 1\n",
    "for e in range(num_epochs):\n",
    "    run_epoch(trLD, model, criterion, e, True, optimizer)\n",
    "    if e % evaluate_every_epoch == 0:\n",
    "        run_epoch(valLD, model, criterion, e, False, None)   \n"
   ]
  },
  {
   "cell_type": "markdown",
   "metadata": {},
   "source": [
    "**Different Model**"
   ]
  },
  {
   "cell_type": "code",
   "execution_count": 29,
   "metadata": {},
   "outputs": [],
   "source": [
    "class SequenceClassify(nn.Module):\n",
    "    def __init__(self):\n",
    "        super(SequenceClassify, self).__init__()\n",
    "        \n",
    "        self.recurrent_layer1 = torch.nn.LSTM(75, 200, 1, batch_first = True)\n",
    "        self.recurrent_layer2 = torch.nn.LSTM(200, 200, 1, batch_first = True)\n",
    "\n",
    "    \n",
    "        self.project_layer1 = torch.nn.Linear(200, 100)\n",
    "        self.project_layer2 = torch.nn.Linear(100, 10)\n",
    "\n",
    "    def forward(self, input, h_t_1=None, c_t_1=None):\n",
    "        rnn_outputs, (hn, cn) = self.recurrent_layer1(input)\n",
    "\n",
    "        rnn_outputs, (hn, cn) = self.recurrent_layer2(rnn_outputs)\n",
    "        logits = self.project_layer1(rnn_outputs[:,-1])\n",
    "        rnn_outputs = logits\n",
    "        logits = self.project_layer2(rnn_outputs)\n",
    "        \n",
    "        return logits\n",
    "\n",
    "model = SequenceClassify()"
   ]
  },
  {
   "cell_type": "code",
   "execution_count": 30,
   "metadata": {},
   "outputs": [
    {
     "name": "stderr",
     "output_type": "stream",
     "text": [
      "C:\\Users\\Shree\\Anaconda3\\lib\\site-packages\\ipykernel_launcher.py:31: UserWarning: invalid index of a 0-dim tensor. This will be an error in PyTorch 0.5. Use tensor.item() to convert a 0-dim tensor to a Python number\n"
     ]
    },
    {
     "name": "stdout",
     "output_type": "stream",
     "text": [
      "train Epoch: 0  , Loss: 2.3025,  Accuracy: 9.95\n",
      "val Epoch: 0  , Loss: 2.2929,  Accuracy: 16.00\n",
      "train Epoch: 1  , Loss: 2.2692,  Accuracy: 19.60\n",
      "val Epoch: 1  , Loss: 2.1781,  Accuracy: 23.00\n",
      "train Epoch: 2  , Loss: 2.0292,  Accuracy: 20.05\n",
      "val Epoch: 2  , Loss: 1.8489,  Accuracy: 27.50\n",
      "train Epoch: 3  , Loss: 1.8083,  Accuracy: 28.45\n",
      "val Epoch: 3  , Loss: 1.7163,  Accuracy: 38.25\n",
      "train Epoch: 4  , Loss: 1.6652,  Accuracy: 41.60\n",
      "val Epoch: 4  , Loss: 1.6537,  Accuracy: 41.25\n",
      "train Epoch: 5  , Loss: 1.5111,  Accuracy: 48.40\n",
      "val Epoch: 5  , Loss: 1.5029,  Accuracy: 50.75\n",
      "train Epoch: 6  , Loss: 1.3594,  Accuracy: 53.25\n",
      "val Epoch: 6  , Loss: 1.3930,  Accuracy: 52.25\n",
      "train Epoch: 7  , Loss: 1.2764,  Accuracy: 55.55\n",
      "val Epoch: 7  , Loss: 1.3939,  Accuracy: 49.25\n",
      "train Epoch: 8  , Loss: 1.1903,  Accuracy: 59.15\n",
      "val Epoch: 8  , Loss: 1.2652,  Accuracy: 59.75\n",
      "train Epoch: 9  , Loss: 1.1382,  Accuracy: 60.00\n",
      "val Epoch: 9  , Loss: 1.2725,  Accuracy: 56.25\n",
      "train Epoch: 10  , Loss: 1.0926,  Accuracy: 60.45\n",
      "val Epoch: 10  , Loss: 1.2608,  Accuracy: 56.50\n",
      "train Epoch: 11  , Loss: 1.0634,  Accuracy: 61.85\n",
      "val Epoch: 11  , Loss: 1.2389,  Accuracy: 57.25\n",
      "train Epoch: 12  , Loss: 1.0698,  Accuracy: 62.30\n",
      "val Epoch: 12  , Loss: 1.1525,  Accuracy: 61.00\n",
      "train Epoch: 13  , Loss: 0.9903,  Accuracy: 65.55\n",
      "val Epoch: 13  , Loss: 1.1175,  Accuracy: 62.50\n",
      "train Epoch: 14  , Loss: 0.9761,  Accuracy: 65.30\n",
      "val Epoch: 14  , Loss: 1.1327,  Accuracy: 59.75\n",
      "train Epoch: 15  , Loss: 0.9541,  Accuracy: 66.85\n",
      "val Epoch: 15  , Loss: 1.0874,  Accuracy: 63.00\n",
      "train Epoch: 16  , Loss: 0.9220,  Accuracy: 67.30\n",
      "val Epoch: 16  , Loss: 1.0868,  Accuracy: 62.50\n",
      "train Epoch: 17  , Loss: 0.8975,  Accuracy: 68.40\n",
      "val Epoch: 17  , Loss: 1.0650,  Accuracy: 63.75\n",
      "train Epoch: 18  , Loss: 0.8806,  Accuracy: 69.55\n",
      "val Epoch: 18  , Loss: 1.1167,  Accuracy: 62.25\n",
      "train Epoch: 19  , Loss: 0.8825,  Accuracy: 68.90\n",
      "val Epoch: 19  , Loss: 1.0640,  Accuracy: 63.75\n",
      "train Epoch: 20  , Loss: 0.8598,  Accuracy: 69.50\n",
      "val Epoch: 20  , Loss: 1.0950,  Accuracy: 63.50\n",
      "train Epoch: 21  , Loss: 0.8306,  Accuracy: 70.70\n",
      "val Epoch: 21  , Loss: 1.0899,  Accuracy: 63.75\n",
      "train Epoch: 22  , Loss: 0.8512,  Accuracy: 69.75\n",
      "val Epoch: 22  , Loss: 1.0419,  Accuracy: 63.75\n",
      "train Epoch: 23  , Loss: 0.8059,  Accuracy: 71.95\n",
      "val Epoch: 23  , Loss: 1.0488,  Accuracy: 63.50\n",
      "train Epoch: 24  , Loss: 0.8027,  Accuracy: 71.35\n",
      "val Epoch: 24  , Loss: 1.0306,  Accuracy: 64.75\n",
      "train Epoch: 25  , Loss: 0.7585,  Accuracy: 73.60\n",
      "val Epoch: 25  , Loss: 0.9839,  Accuracy: 68.00\n",
      "train Epoch: 26  , Loss: 0.7256,  Accuracy: 74.35\n",
      "val Epoch: 26  , Loss: 0.9948,  Accuracy: 66.25\n",
      "train Epoch: 27  , Loss: 0.7172,  Accuracy: 75.25\n",
      "val Epoch: 27  , Loss: 1.0318,  Accuracy: 64.00\n",
      "train Epoch: 28  , Loss: 0.7065,  Accuracy: 75.55\n",
      "val Epoch: 28  , Loss: 0.9931,  Accuracy: 65.00\n",
      "train Epoch: 29  , Loss: 0.6885,  Accuracy: 75.45\n",
      "val Epoch: 29  , Loss: 0.9461,  Accuracy: 66.50\n"
     ]
    }
   ],
   "source": [
    "optimizer = torch.optim.Adam(model.parameters(), lr = 1e-3)\n",
    "criterion = torch.nn.CrossEntropyLoss()\n",
    "\n",
    "def run_epoch(data_loader, model, criterion, epoch, is_training, optimizer=None):\n",
    "    if is_training:\n",
    "        model.train()\n",
    "        logger_prefix = 'train'\n",
    "    else:\n",
    "        model.eval()\n",
    "        logger_prefix = 'val'\n",
    "\n",
    "    confusion_matrix = tnt.meter.ConfusionMeter(num_class)\n",
    "    acc = tnt.meter.ClassErrorMeter(accuracy=True)\n",
    "    meter_loss = tnt.meter.AverageValueMeter()\n",
    "\n",
    "    for batch_idx, sample in enumerate(data_loader):\n",
    "        sequence = sample['seq']\n",
    "        label = sample['label']\n",
    "        input_sequence_var = Variable(sequence)\n",
    "        input_label_var = Variable(label)\n",
    "        \n",
    "\n",
    "        output_logits = model(input_sequence_var)\n",
    "        loss = criterion(output_logits, input_label_var)\n",
    "\n",
    "        if is_training:\n",
    "            optimizer.zero_grad()\n",
    "            loss.backward()\n",
    "            optimizer.step()\n",
    "\n",
    "        meter_loss.add(loss.data[0])\n",
    "        acc.add(output_logits.data, input_label_var.data)\n",
    "        confusion_matrix.add(output_logits.data, input_label_var.data)\n",
    "\n",
    "\n",
    "    print('%s Epoch: %d  , Loss: %.4f,  Accuracy: %.2f'%(logger_prefix, epoch, meter_loss.value()[0], acc.value()[0]))\n",
    "    return(acc.value()[0], meter_loss.value()[0])\n",
    "\n",
    "num_epochs = 30\n",
    "evaluate_every_epoch = 1\n",
    "tacc= []\n",
    "vacc=[]\n",
    "for e in range(num_epochs):\n",
    "    acc, loss = run_epoch(trLD, model, criterion, e, True, optimizer)\n",
    "    tacc.append(acc)\n",
    "    if e % evaluate_every_epoch == 0:\n",
    "        a,l=run_epoch(valLD, model, criterion, e, False, None)\n",
    "        vacc.append(a)"
   ]
  },
  {
   "cell_type": "markdown",
   "metadata": {},
   "source": [
    "## Submit your results on Kaggle\n",
    "\n",
    "### Train a better model for action recognition!\n",
    "Now it's your job to experiment with architectures, hyperparameters, loss functions, and optimizers to train a model that achieves better accuracy on the action recognition validation set.\n",
    "\n",
    "\n",
    "### Testing the model and submit on Kaggle\n",
    "Testing the model on the testing set and save the results as a .csv file. \n",
    "Please submitted the results.csv file generated by predict_on_test() to Kaggle(https://www.kaggle.com/t/934b80879bd741e6ac1967195604d4d9) to see how well your network performs on the test set. \n",
    "################ 3rd To Do  (20 points, the highest 3 entries get extra 10 points) ###############\n"
   ]
  },
  {
   "cell_type": "code",
   "execution_count": 13,
   "metadata": {},
   "outputs": [
    {
     "name": "stdout",
     "output_type": "stream",
     "text": [
      "1000\n"
     ]
    }
   ],
   "source": [
    "# Use your best model to generate results on test set.\n",
    "\n",
    "# generate csv file for test set\n",
    "def predict_on_test(model, data_loader):\n",
    "    model.eval() # Put the model in test mode (the opposite of model.train(), essentially)\n",
    "    results=open('results1.csv','w')\n",
    "    count=0\n",
    "    results.write('Id'+','+'Class'+'\\n')\n",
    "    for batch_idx, sample in enumerate(data_loader):\n",
    "        sequence = sample['seq']\n",
    "        input_sequence_var = Variable(sequence)\n",
    "        scores = model(input_sequence_var)\n",
    "        _, preds = scores.data.max(1)\n",
    "        for i in range(len(preds)):\n",
    "            results.write(str(count)+','+str(preds[i].item())+'\\n')\n",
    "            count+=1\n",
    "    results.close()\n",
    "    return count\n",
    "\n",
    "count=predict_on_test(model, tstLD)\n",
    "print(count)"
   ]
  },
  {
   "cell_type": "markdown",
   "metadata": {},
   "source": [
    "## Report the performance\n",
    "################ 4th To Do  (5 points)##################\n",
    "\n",
    "In this cell, you should write an explanation of what you did (network architecture, optimiziter, learning rate, epochs) and any visualizations or graphs that you make in the process of training and evaluating your network.\n",
    "\n",
    "Network Architecture: \n",
    "- Used 2 LSTM layers with dimension 200\n",
    "- Used 2 Linear layers after LSTM layers \n",
    "   - Dimension input: 200 output: 100\n",
    "   - Dimension input: 100 output: 10\n",
    "\n",
    "Optimizer:\n",
    "- Used Adam optimizer with follwing setting: weight decay=1e-3, learning rate = 1e-3, \n",
    "\n",
    "Epochs:\n",
    "- 1000 epochs\n",
    "\n",
    "Report your Kaggle Performance here:\n",
    "accuracy 0.7660"
   ]
  },
  {
   "cell_type": "markdown",
   "metadata": {},
   "source": []
  },
  {
   "cell_type": "code",
   "execution_count": 31,
   "metadata": {},
   "outputs": [
    {
     "data": {
      "text/plain": [
       "<matplotlib.legend.Legend at 0x1d139864358>"
      ]
     },
     "execution_count": 31,
     "metadata": {},
     "output_type": "execute_result"
    },
    {
     "data": {
      "image/png": "[encoded data removed]",
      "text/plain": [
       "<matplotlib.figure.Figure at 0x1d1397e32e8>"
      ]
     },
     "metadata": {},
     "output_type": "display_data"
    }
   ],
   "source": [
    "import matplotlib.pyplot as plt\n",
    "%matplotlib inline\n",
    "\n",
    "\n",
    "plt.ylabel(\"Loss\")\n",
    "plt.xlabel(\"Epochs\")\n",
    "plt.title(\"Train and Val accuracy\")\n",
    "plt.plot(tacc)\n",
    "plt.plot(vacc)\n",
    "plt.legend(['Train accuracy','Val accuracy'])\n"
   ]
  }
 ],
 "metadata": {
  "kernelspec": {
   "display_name": "Python 3",
   "language": "python",
   "name": "python3"
  },
  "language_info": {
   "codemirror_mode": {
    "name": "ipython",
    "version": 3
   },
   "file_extension": ".py",
   "mimetype": "text/x-python",
   "name": "python",
   "nbconvert_exporter": "python",
   "pygments_lexer": "ipython3",
   "version": "3.6.2"
  }
 },
 "nbformat": 4,
 "nbformat_minor": 2
}
